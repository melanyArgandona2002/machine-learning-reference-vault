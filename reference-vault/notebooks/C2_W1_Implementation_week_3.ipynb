{
  "metadata": {
    "kernelspec": {
      "name": "python",
      "display_name": "Python (Pyodide)",
      "language": "python"
    },
    "language_info": {
      "codemirror_mode": {
        "name": "python",
        "version": 3
      },
      "file_extension": ".py",
      "mimetype": "text/x-python",
      "name": "python",
      "nbconvert_exporter": "python",
      "pygments_lexer": "ipython3",
      "version": "3.8"
    }
  },
  "nbformat_minor": 4,
  "nbformat": 4,
  "cells": [
    {
      "cell_type": "code",
      "source": "# Jupyter Notebook: Neural Network Implementation",
      "metadata": {
        "trusted": true
      },
      "outputs": [],
      "execution_count": null
    },
    {
      "cell_type": "code",
      "source": "## 1. Importing Required Libraries\n\nimport numpy as np\nimport matplotlib.pyplot as plt",
      "metadata": {
        "trusted": true
      },
      "outputs": [],
      "execution_count": 1
    },
    {
      "cell_type": "code",
      "source": "# 2. Sigmoid function: Activation\ndef sigmoid(x):\n    return 1 / (1 + np.exp(-x))",
      "metadata": {
        "trusted": true
      },
      "outputs": [],
      "execution_count": 2
    },
    {
      "cell_type": "code",
      "source": "# 3. Calculate activation for a neuron\ndef calculate_activation(x, w, b):\n    \"\"\"\n    Calculates the activation of a neuron.\n    x: input vector\n    w: neuron weights\n    b: neuron bias\n    \"\"\"\n    z = np.dot(w, x) + b\n    a = sigmoid(z)\n    return a",
      "metadata": {
        "trusted": true
      },
      "outputs": [],
      "execution_count": 3
    },
    {
      "cell_type": "code",
      "source": "# 4. Example of calculation in a layer\ndef hidden_layer(x, w, b):\n    \"\"\"\n    Calculates the output of a hidden layer.\n    x: inputs from the previous layer\n    w: layer weights\n    b: layer biases\n    \"\"\"\n    activations = []\n    for i in range(w.shape[0]):\n        activations.append(calculate_activation(x, w[i], b[i]))\n    return np.array(activations)",
      "metadata": {
        "trusted": true
      },
      "outputs": [],
      "execution_count": 4
    },
    {
      "cell_type": "code",
      "source": "# 5. Define layers and weights for the neural network\ndef initialize_neural_network(input_size, hidden_layer_size, output_size):\n    \"\"\"\n    Initializes weights and biases for a simple neural network.\n    input_size: size of the input layer\n    hidden_layer_size: size of the hidden layer\n    output_size: size of the output layer\n    \"\"\"\n    # Weights and biases for the hidden layer\n    W1 = np.random.randn(hidden_layer_size, input_size) * 0.1\n    b1 = np.zeros((hidden_layer_size, 1))\n    \n    # Weights and biases for the output layer\n    W2 = np.random.randn(output_size, hidden_layer_size) * 0.1\n    b2 = np.zeros((output_size, 1))\n    \n    return W1, b1, W2, b2",
      "metadata": {
        "trusted": true
      },
      "outputs": [],
      "execution_count": 5
    },
    {
      "cell_type": "code",
      "source": "# 6. Forward propagation\ndef forward_propagation(X, W1, b1, W2, b2):\n    \"\"\"\n    Performs forward propagation through the neural network.\n    X: inputs to the network\n    W1, b1: weights and biases of the hidden layer\n    W2, b2: weights and biases of the output layer\n    \"\"\"\n    # Hidden layer\n    Z1 = np.dot(W1, X.T) + b1\n    A1 = sigmoid(Z1)\n    \n    # Output layer\n    Z2 = np.dot(W2, A1) + b2\n    A2 = sigmoid(Z2)\n    \n    return A2",
      "metadata": {
        "trusted": true
      },
      "outputs": [],
      "execution_count": 6
    },
    {
      "cell_type": "code",
      "source": "# 7. Example of prediction: Neural network for binary classification\ndef prediction(A2):\n    \"\"\"\n    Makes a prediction for binary classification.\n    A2: activation of the output layer\n    \"\"\"\n    return (A2 >= 0.5).astype(int)\n",
      "metadata": {
        "trusted": true
      },
      "outputs": [],
      "execution_count": 7
    },
    {
      "cell_type": "code",
      "source": "# 8. Visualizing the neural network structure\ndef visualize_neural_network():\n    \"\"\"\n    Visualizes the structure of a simple neural network.\n    \"\"\"\n    fig, ax = plt.subplots(figsize=(10, 6))\n\n    # Layers of the neural network\n    ax.scatter([0]*4, np.linspace(1, 4, 4), s=500, c='r', label=\"Input Layer\")\n    ax.scatter([2]*3, np.linspace(1, 3, 3), s=500, c='g', label=\"Hidden Layer\")\n    ax.scatter([4]*1, [2], s=500, c='b', label=\"Output Layer\")\n    \n    # Connections between layers\n    for i in range(4):\n        for j in range(3):\n            ax.plot([0, 2], [i+1, j+1], c='k', lw=0.5)\n    for j in range(3):\n        ax.plot([2, 4], [j+1, 2], c='k', lw=0.5)\n    \n    # Add labels and legend\n    ax.set_title(\"Structure of a Simple Neural Network\")\n    ax.set_xticks([0, 2, 4])\n    ax.set_xticklabels([\"Input\", \"Hidden\", \"Output\"])\n    ax.set_yticks([1, 2, 3, 4])\n    ax.set_yticklabels([\"\", \"\", \"\", \"\"])\n    ax.legend(loc=\"upper right\")\n    \n    plt.show()",
      "metadata": {
        "trusted": true
      },
      "outputs": [],
      "execution_count": 8
    },
    {
      "cell_type": "code",
      "source": "# 9. Example prediction with the neural network\ninput_size = 4  # Number of input features\nhidden_layer_size = 3  # Number of neurons in the hidden layer\noutput_size = 1  # Number of neurons in the output layer",
      "metadata": {
        "trusted": true
      },
      "outputs": [],
      "execution_count": 9
    },
    {
      "cell_type": "markdown",
      "source": "# Initialize weights and biases\nW1, b1, W2, b2 = initialize_neural_network(input_size, hidden_layer_size, output_size)\n\n# Example data (features of the shirt)\nX = np.array([[10, 5, 20, 15]])  # Example: price, expenses, marketing, quality\n\n# Forward propagation\nA2 = forward_propagation(X, W1, b1, W2, b2)\n\n# Prediction\nprediction_result = prediction(A2)\nprint(\"Prediction (0: Not a success, 1: Will be a success):\", prediction_result)\n\n# Visualize the neural network\nvisualize_neural_network()",
      "metadata": {}
    },
    {
      "cell_type": "code",
      "source": "",
      "metadata": {
        "trusted": true
      },
      "outputs": [],
      "execution_count": null
    }
  ]
}